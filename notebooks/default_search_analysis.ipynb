{
 "cells": [
  {
   "cell_type": "markdown",
   "metadata": {},
   "source": [
    "# Search Tester Analysis\n",
    "*Follow these steps to compare legacy results to the new api results.*"
   ]
  },
  {
   "cell_type": "markdown",
   "metadata": {},
   "source": [
    "### Setup the environment"
   ]
  },
  {
   "cell_type": "code",
   "execution_count": null,
   "metadata": {},
   "outputs": [],
   "source": [
    "%run ./local/setup.ipynb"
   ]
  },
  {
   "cell_type": "markdown",
   "metadata": {},
   "source": [
    "### Find search batches (choose the data set)\n",
    "*find the ones you want to analyze*"
   ]
  },
  {
   "cell_type": "code",
   "execution_count": null,
   "metadata": {},
   "outputs": [],
   "source": [
    "search_type = None\n",
    "after_date = None\n",
    "before_date = None\n",
    "### OPTIONAL: refine your batch search with any of the following\n",
    "# search_type = SearchRequest.SearchTypes.XXXX\n",
    "# before_date = _datetime_in_utc_\n",
    "# after_date = _datetime_in_utc_\n",
    "batches = TestSearchBatch.find_search_batches(search_type, after_date, before_date)\n",
    "for batch in batches:\n",
    "    print(batch.id, batch.test_date, batch.search_type, batch.sim_val_business, batch.sim_val_first_name, batch.sim_val_last_name)\n"
   ]
  },
  {
   "cell_type": "code",
   "execution_count": null,
   "metadata": {},
   "outputs": [],
   "source": [
    "# add the ids of the batches you want to analyze\n",
    "batch_ids = []\n",
    "for batch in batches:\n",
    "    # fill in the clause (if you want all of them then set to True or remove)\n",
    "    if _clause_:  # i.e. batch.id > _ , batch.sim_val_business > _ ...\n",
    "        batch_ids.append(batch.id)"
   ]
  },
  {
   "cell_type": "markdown",
   "metadata": {},
   "source": [
    "### Get the batch json"
   ]
  },
  {
   "cell_type": "code",
   "execution_count": null,
   "metadata": {},
   "outputs": [],
   "source": [
    "batches_to_analyze = []\n",
    "for batch_id in batch_ids:\n",
    "    batches_to_analyze.append(TestSearchBatch.find_by_id(batch_id))"
   ]
  },
  {
   "cell_type": "markdown",
   "metadata": {},
   "source": [
    "# Analysis"
   ]
  },
  {
   "cell_type": "markdown",
   "metadata": {},
   "source": [
    "### Exact Matches"
   ]
  },
  {
   "cell_type": "markdown",
   "metadata": {},
   "source": [
    "#### Pass rate"
   ]
  },
  {
   "cell_type": "code",
   "execution_count": null,
   "metadata": {},
   "outputs": [],
   "source": [
    "searches_total = 0\n",
    "searches_passed = 0\n",
    "failed_searches = []\n",
    "for batch in batches_to_analyze:\n",
    "    for search in batch.searches:\n",
    "        searches_total += 1\n",
    "        if len(search.missed_matches(TestSearchResult.MatchType.EXACT.value)) > 0:\n",
    "            failed_searches.append(search)\n",
    "        else:\n",
    "            searches_passed += 1\n",
    "print('pass rate: ', searches_passed/searches_total)\n",
    "print('number of failed searches: ', len(failed_searches))"
   ]
  },
  {
   "cell_type": "markdown",
   "metadata": {},
   "source": [
    "#### Failed Searches"
   ]
  },
  {
   "cell_type": "markdown",
   "metadata": {},
   "source": [
    "*select failed searches to analyze*"
   ]
  },
  {
   "cell_type": "code",
   "execution_count": null,
   "metadata": {},
   "outputs": [],
   "source": [
    "for search in failed_searches:\n",
    "    json = search.json\n",
    "    print('###########################################################')\n",
    "    print('criteria: ', json['criteria'])\n",
    "    print('total expected: ', len(json['matchesExact']['resultsLegacy']), 'missed: ', len(json['matchesExact']['missedMatches']))"
   ]
  },
  {
   "cell_type": "code",
   "execution_count": null,
   "metadata": {},
   "outputs": [],
   "source": [
    "### print out json for specific search\n",
    "# print(failed_searches[0].json)"
   ]
  },
  {
   "cell_type": "code",
   "execution_count": null,
   "metadata": {},
   "outputs": [],
   "source": [
    "exact_searches_analysis = []\n",
    "for search in failed_searches:\n",
    "    # fill in the clause (if you want all of them then set to True or remove)\n",
    "    if _clause_:  # i.e. search.search_criteria == _, len(search.missed_matches(TestSearchResult.MatchType.EXACT.value)) > _\n",
    "        exact_searches_analysis.append(search)"
   ]
  },
  {
   "cell_type": "markdown",
   "metadata": {},
   "source": [
    "*missed matches*"
   ]
  },
  {
   "cell_type": "code",
   "execution_count": null,
   "metadata": {},
   "outputs": [],
   "source": [
    "import re\n",
    "### manually iterate through exact_searches_analysis one by one to see the missed matches\n",
    "search = exact_searches_analysis[0]\n",
    "for match in search.missed_matches(TestSearchResult.MatchType.EXACT.value):\n",
    "    match['details'] = re.sub(' +', ' ', match['details'])\n",
    "    print('-------------------------------------------------------------------------------')\n",
    "    print('result:', match['details'])\n",
    "    print('reg num:', match['documentId'])\n",
    "    print('index: ', match['index'])\n",
    "### print out all of them\n",
    "# for search in exact_searches_analysis:\n",
    "#     print('##################################################################################')\n",
    "#     print('criteria: ', search.search_criteria)\n",
    "#     print('Missed Matches')\n",
    "#     for match in search.missed_matches(TestSearchResult.MatchType.EXACT.value):\n",
    "#         print('-------------------------------------------------------------------------------')\n",
    "#         print('result:', match['details'])\n",
    "#         print('reg num:', match['documentId'])\n",
    "#         print('index: ', match['index'])"
   ]
  },
  {
   "cell_type": "markdown",
   "metadata": {},
   "source": [
    "*results diff*"
   ]
  },
  {
   "cell_type": "code",
   "execution_count": null,
   "metadata": {},
   "outputs": [],
   "source": [
    "import re\n",
    "### manually iterate through exact_searches_analysis one by one\n",
    "search = exact_searches_analysis[0]\n",
    "print('criteria: ', search.search_criteria)\n",
    "print('-------------------------------------------------------------')\n",
    "print('  legacy                           api')\n",
    "print('-------------------------------------------------------------')\n",
    "legacy_results = search.get_results(TestSearchResult.MatchType.EXACT.value, TestSearchResult.Source.LEGACY.value)\n",
    "api_results = search.get_results(TestSearchResult.MatchType.EXACT.value, TestSearchResult.Source.API.value)\n",
    "length = max(len(legacy_results), len(api_results))\n",
    "for i in range(length):\n",
    "    if i < len(legacy_results) and i < len(api_results):\n",
    "        legacy_results[i]['details'] = re.sub(' +', ' ', legacy_results[i]['details'])\n",
    "        print(f'{i}: {legacy_results[i][\"documentId\"]} {legacy_results[i][\"details\"]} | {api_results[i][\"documentId\"]} {api_results[i][\"details\"]}')\n",
    "    elif i < len(legacy_results):\n",
    "        legacy_results[i]['details'] = re.sub(' +', ' ', legacy_results[i]['details'])\n",
    "        print(f'{i}: {legacy_results[i][\"documentId\"]} {legacy_results[i][\"details\"]} |')\n",
    "    elif i < len(api_results):\n",
    "        print(f'{i}:                    | {api_results[i][\"documentId\"]} {api_results[i][\"details\"]}')\n",
    "\n",
    "### print out all of them\n",
    "# for search in exact_searches_analysis:\n",
    "#     print('criteria: ', search.search_criteria)\n",
    "#     print('-------------------------------------------------------------')\n",
    "#     print('  legacy                           api')\n",
    "#     print('-------------------------------------------------------------')\n",
    "#     legacy_results = search.get_results(TestSearchResult.MatchType.EXACT.value, TestSearchResult.Source.LEGACY.value)\n",
    "#     api_results = search.get_results(TestSearchResult.MatchType.EXACT.value, TestSearchResult.Source.API.value)\n",
    "#     length = max(len(legacy_results), len(api_results))\n",
    "#     for i in range(length):\n",
    "#         if i < len(legacy_results) and i < len(api_results):\n",
    "#             legacy_results[i]['details'] = re.sub(' +', ' ', legacy_results[i]['details'])\n",
    "#             print(f'{i}: {legacy_results[i][\"documentId\"]} {legacy_results[i][\"details\"]} | {api_results[i][\"documentId\"]} {api_results[i][\"details\"]}')\n",
    "#         elif i < len(legacy_results):\n",
    "#             legacy_results[i]['details'] = re.sub(' +', ' ', legacy_results[i]['details'])\n",
    "#             print(f'{i}: {legacy_results[i][\"documentId\"]} {legacy_results[i][\"details\"]} |')\n",
    "#         elif i < len(api_results):\n",
    "#             print(f'{i}:                    | {api_results[i][\"documentId\"]} {api_results[i][\"details\"]}')\n"
   ]
  },
  {
   "cell_type": "markdown",
   "metadata": {},
   "source": [
    "### Similar Matches"
   ]
  },
  {
   "cell_type": "markdown",
   "metadata": {},
   "source": [
    "#### Pass rate"
   ]
  },
  {
   "cell_type": "code",
   "execution_count": null,
   "metadata": {},
   "outputs": [],
   "source": [
    "searches_total = 0\n",
    "searches_passed = 0\n",
    "failed_searches = []\n",
    "for batch in batches_to_analyze:\n",
    "    for search in batch.searches:\n",
    "        searches_total += 1\n",
    "        # fails if missed matches\n",
    "        if len(search.missed_matches(TestSearchResult.MatchType.SIMILAR.value)) > 0:\n",
    "            failed_searches.append(search)\n",
    "        # fails if order is off\n",
    "        elif search.avg_index_diff(TestSearchResult.MatchType.SIMILAR.value) != 0:\n",
    "            failed_searches.append(search)\n",
    "        else:\n",
    "            searches_passed += 1\n",
    "print('pass rate: ', searches_passed/searches_total)\n",
    "print('number of failed searches: ', len(failed_searches))"
   ]
  },
  {
   "cell_type": "markdown",
   "metadata": {},
   "source": [
    "#### Failed searches"
   ]
  },
  {
   "cell_type": "markdown",
   "metadata": {},
   "source": [
    "*select failed searches to analyze*"
   ]
  },
  {
   "cell_type": "code",
   "execution_count": null,
   "metadata": {},
   "outputs": [],
   "source": [
    "for search in failed_searches:\n",
    "    json = search.json\n",
    "    print('###########################################################')\n",
    "    print('criteria: ', json['criteria'])\n",
    "    print('total expected: ', len(json['matchesSimilar']['resultsLegacy']), ' missed: ', len(json['matchesSimilar']['missedMatches']))\n",
    "    print('first fail index: ', json['matchesSimilar']['firstFailIndex'])\n",
    "    print('avg index diff: ', json['matchesSimilar']['avgIndexDiff'])"
   ]
  },
  {
   "cell_type": "code",
   "execution_count": null,
   "metadata": {},
   "outputs": [],
   "source": [
    "### print out json for specific search\n",
    "# print(failed_searches[0].json)"
   ]
  },
  {
   "cell_type": "code",
   "execution_count": null,
   "metadata": {},
   "outputs": [],
   "source": [
    "similar_searches_analysis = []\n",
    "for search in failed_searches:\n",
    "    # fill in the clause (if you want all of them then set to True or remove)\n",
    "    if _clause_:  # i.e. search.search_criteria == _, len(search.missed_matches(TestSearchResult.MatchType.SIMILAR.value)) > _\n",
    "        similar_searches_analysis.append(search)"
   ]
  },
  {
   "cell_type": "markdown",
   "metadata": {},
   "source": [
    "*first failed indexes*"
   ]
  },
  {
   "cell_type": "code",
   "execution_count": null,
   "metadata": {},
   "outputs": [],
   "source": [
    "### manually iterate through\n",
    "search = similar_searches_analysis[0]\n",
    "print(search.fail_index(TestSearchResult.MatchType.SIMILAR.value))\n",
    "\n",
    "### print out all of them\n",
    "# for search in similar_searches_analysis:\n",
    "#     print(search.fail_index(TestSearchResult.MatchType.SIMILAR.value))"
   ]
  },
  {
   "cell_type": "code",
   "execution_count": null,
   "metadata": {},
   "outputs": [],
   "source": [
    "### avgs\n",
    "total_no_fails = 0\n",
    "total_fail_index = 0\n",
    "for search in similar_searches_analysis:\n",
    "    fail_index = search.fail_index(TestSearchResult.MatchType.SIMILAR.value)\n",
    "    if fail_index == -1:\n",
    "        total_no_fails += 1\n",
    "    else:\n",
    "        total_fail_index += fail_index\n",
    "\n",
    "num_searches_failed = len(similar_searches_analysis) - total_no_fails\n",
    "print('Number of searches with fail indexes: ', num_searches_failed)\n",
    "print('avg fail index: ', total_fail_index/num_searches_failed)"
   ]
  },
  {
   "cell_type": "markdown",
   "metadata": {},
   "source": [
    "*avg order difference between legacy and api results (does NOT include missed matches)*"
   ]
  },
  {
   "cell_type": "code",
   "execution_count": null,
   "metadata": {},
   "outputs": [],
   "source": [
    "### manually iterate through\n",
    "search = similar_searches_analysis[0]\n",
    "print(search.avg_index_diff(TestSearchResult.MatchType.SIMILAR.value))\n",
    "\n",
    "### print out all of them\n",
    "# for search in similar_searches_analysis:\n",
    "#     print(search.avg_index_diff(TestSearchResult.MatchType.SIMILAR.value))"
   ]
  },
  {
   "cell_type": "markdown",
   "metadata": {},
   "source": [
    "*missed matches*"
   ]
  },
  {
   "cell_type": "code",
   "execution_count": null,
   "metadata": {},
   "outputs": [],
   "source": [
    "import re\n",
    "### manually iterate through\n",
    "search = similar_searches_analysis[0]\n",
    "print('criteria: ', search.search_criteria)\n",
    "print('Missed Matches')\n",
    "for match in search.missed_matches(TestSearchResult.MatchType.SIMILAR.value):\n",
    "    match['details'] = re.sub(' +', ' ', match['details'])\n",
    "    print('-------------------------------------------------------------------------------')\n",
    "    print('result:', match['details'])\n",
    "    print('reg num:', match['documentId'])\n",
    "    print('index: ', match['index'])\n",
    "\n",
    "### print out all of them\n",
    "# for search in similar_searches_analysis:\n",
    "#     print('##################################################################################')\n",
    "#     print('criteria: ', search.search_criteria)\n",
    "#     print('Missed Matches')\n",
    "#     for match in search.missed_matches(TestSearchResult.MatchType.SIMILAR.value):\n",
    "#         print('-------------------------------------------------------------------------------')\n",
    "#         print('result:', match['details'])\n",
    "#         print('reg num:', match['documentId'])\n",
    "#         print('index: ', match['index'])"
   ]
  },
  {
   "cell_type": "markdown",
   "metadata": {},
   "source": [
    "*results diff*"
   ]
  },
  {
   "cell_type": "code",
   "execution_count": null,
   "metadata": {},
   "outputs": [],
   "source": [
    "import re\n",
    "### manually iterate through similar_searches_analysis one by one\n",
    "search = similar_searches_analysis[0]\n",
    "print('criteria: ', search.search_criteria)\n",
    "print('-------------------------------------------------------------')\n",
    "print('  legacy                           api')\n",
    "print('-------------------------------------------------------------')\n",
    "legacy_results = search.get_results(TestSearchResult.MatchType.SIMILAR.value, TestSearchResult.Source.LEGACY.value)\n",
    "api_results = search.get_results(TestSearchResult.MatchType.SIMILAR.value, TestSearchResult.Source.API.value)\n",
    "length = max(len(legacy_results), len(api_results))\n",
    "for i in range(length):\n",
    "    if i < len(legacy_results) and i < len(api_results):\n",
    "        legacy_results[i]['details'] = re.sub(' +', ' ', legacy_results[i]['details'])\n",
    "        print(f'{i}: {legacy_results[i][\"documentId\"]} {legacy_results[i][\"details\"]} | {api_results[i][\"documentId\"]} {api_results[i][\"details\"]}')\n",
    "    elif i < len(legacy_results):\n",
    "        legacy_results[i]['details'] = re.sub(' +', ' ', legacy_results[i]['details'])\n",
    "        print(f'{i}: {legacy_results[i][\"documentId\"]} {legacy_results[i][\"details\"]} |')\n",
    "    elif i < len(api_results):\n",
    "        print(f'{i}:                    | {api_results[i][\"documentId\"]} {api_results[i][\"details\"]}')\n",
    "\n",
    "### print out all of them\n",
    "# for search in similar_searches_analysis:\n",
    "#     print('criteria: ', search.search_criteria)\n",
    "#     print('-------------------------------------------------------------')\n",
    "#     print('  legacy                           api')\n",
    "#     print('-------------------------------------------------------------')\n",
    "#     legacy_results = search.get_results(TestSearchResult.MatchType.SIMILAR.value, TestSearchResult.Source.LEGACY.value)\n",
    "#     api_results = search.get_results(TestSearchResult.MatchType.SIMILAR.value, TestSearchResult.Source.API.value)\n",
    "#     length = max(len(legacy_results), len(api_results))\n",
    "#     for i in range(length):\n",
    "#         if i < len(legacy_results) and i < len(api_results):\n",
    "#             legacy_results[i]['details'] = re.sub(' +', ' ', legacy_results[i]['details'])\n",
    "#             print(f'{i}: {legacy_results[i][\"documentId\"]} {legacy_results[i][\"details\"]} | {api_results[i][\"documentId\"]} {api_results[i][\"details\"]}')\n",
    "#         elif i < len(legacy_results):\n",
    "#             legacy_results[i]['details'] = re.sub(' +', ' ', legacy_results[i]['details'])\n",
    "#             print(f'{i}: {legacy_results[i][\"documentId\"]} {legacy_results[i][\"details\"]} |')\n",
    "#         elif i < len(api_results):\n",
    "#             print(f'{i}:                    | {api_results[i][\"documentId\"]} {api_results[i][\"details\"]}')"
   ]
  },
  {
   "cell_type": "markdown",
   "metadata": {},
   "source": [
    "### Create MD file of notebook run\n",
    "**NOTE:** save notebook (i.e. _cmd s_) now to have results show in markdown file"
   ]
  },
  {
   "cell_type": "code",
   "execution_count": null,
   "metadata": {},
   "outputs": [],
   "source": [
    "%%javascript\n",
    "IPython.notebook.kernel.execute('nb_name = \"' + IPython.notebook.notebook_name + '\"')"
   ]
  },
  {
   "cell_type": "code",
   "execution_count": null,
   "metadata": {},
   "outputs": [],
   "source": [
    "md_name = nb_name[:-6]+'.md'"
   ]
  },
  {
   "cell_type": "code",
   "execution_count": null,
   "metadata": {},
   "outputs": [],
   "source": [
    "%%bash -s \"$nb_name\" \"$md_name\"\n",
    "jupyter nbconvert $1 --to markdown --output $2"
   ]
  }
 ],
 "metadata": {
  "kernelspec": {
   "display_name": "Python 3 (ipykernel)",
   "language": "python",
   "name": "python3"
  },
  "language_info": {
   "codemirror_mode": {
    "name": "ipython",
    "version": 3
   },
   "file_extension": ".py",
   "mimetype": "text/x-python",
   "name": "python",
   "nbconvert_exporter": "python",
   "pygments_lexer": "ipython3",
   "version": "3.10.1"
  }
 },
 "nbformat": 4,
 "nbformat_minor": 2
}
