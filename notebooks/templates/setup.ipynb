{
 "cells": [
  {
   "cell_type": "markdown",
   "metadata": {},
   "source": [
    "## Env setup\n",
    "*Note:* make a copy and place into a toplevel folder called `local`. Other templates expect that to be the path and `local` is ignored by git to ensure our env is not public."
   ]
  },
  {
   "cell_type": "markdown",
   "metadata": {},
   "source": [
    "*commented out saved values for dev/test/prod. Fill these out after you make a copy in your new local folder.* "
   ]
  },
  {
   "cell_type": "code",
   "execution_count": null,
   "metadata": {},
   "outputs": [],
   "source": [
    "### DEV\n",
    "# %%capture\n",
    "# %env DATABASE_USERNAME=\n",
    "# %env DATABASE_PASSWORD=\n",
    "# %env DATABASE_NAME=\n",
    "# # %env DATABASE_HOST=docker.for.mac.localhost\n",
    "# %env DATABASE_HOST=host.docker.internal\n",
    "# %env DATABASE_PORT=\n",
    "### TEST\n",
    "# %%capture\n",
    "# %env DATABASE_USERNAME=\n",
    "# %env DATABASE_PASSWORD=\n",
    "# %env DATABASE_NAME=\n",
    "# # %env DATABASE_HOST=docker.for.mac.localhost\n",
    "# %env DATABASE_HOST=host.docker.internal\n",
    "# %env DATABASE_PORT=\n",
    "### PROD\n",
    "# %%capture\n",
    "# %env DATABASE_USERNAME=\n",
    "# %env DATABASE_PASSWORD=\n",
    "# %env DATABASE_NAME=\n",
    "# # %env DATABASE_HOST=docker.for.mac.localhost\n",
    "# %env DATABASE_HOST=host.docker.internal\n",
    "# %env DATABASE_PORT="
   ]
  },
  {
   "cell_type": "markdown",
   "metadata": {},
   "source": [
    "*Copy/paste/uncomment from above depending on the env you are running in.* "
   ]
  },
  {
   "cell_type": "code",
   "execution_count": 1,
   "metadata": {},
   "outputs": [],
   "source": [
    "%%capture\n",
    "%env DATABASE_USERNAME=1\n",
    "%env DATABASE_PASSWORD=1\n",
    "%env DATABASE_NAME=1\n",
    "# %env DATABASE_HOST=docker.for.mac.localhost\n",
    "%env DATABASE_HOST=host.docker.internal\n",
    "%env DATABASE_PORT=1"
   ]
  },
  {
   "cell_type": "code",
   "execution_count": null,
   "metadata": {},
   "outputs": [],
   "source": [
    "import os\n",
    "from flask import Flask\n",
    "from ppr_api import config\n",
    "from ppr_api.models import db, SearchRequest, TestSearch, TestSearchBatch, TestSearchResult\n",
    "from IPython.core.display import HTML\n",
    "\n",
    "%reload_ext sql\n",
    "%config SqlMagic.displaylimit = 5\n",
    "%config Application.log_level=\"ERROR\""
   ]
  },
  {
   "cell_type": "code",
   "execution_count": null,
   "metadata": {},
   "outputs": [],
   "source": [
    "APP_CONFIG = config.get_named_config(os.getenv('DEPLOYMENT_ENV', 'production'))\n",
    "FLASK_APP = Flask(__name__)\n",
    "FLASK_APP.config.from_object(APP_CONFIG)\n",
    "db.init_app(FLASK_APP)\n",
    "FLASK_APP.app_context().push()"
   ]
  }
 ],
 "metadata": {
  "kernelspec": {
   "display_name": "Python 3 (ipykernel)",
   "language": "python",
   "name": "python3"
  },
  "language_info": {
   "codemirror_mode": {
    "name": "ipython",
    "version": 3
   },
   "file_extension": ".py",
   "mimetype": "text/x-python",
   "name": "python",
   "nbconvert_exporter": "python",
   "pygments_lexer": "ipython3",
   "version": "3.9.6"
  }
 },
 "nbformat": 4,
 "nbformat_minor": 4
}
